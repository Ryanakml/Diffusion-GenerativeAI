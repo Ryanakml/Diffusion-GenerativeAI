{
 "cells": [
  {
   "cell_type": "markdown",
   "id": "19fab0f0-f53c-4412-84d2-3006deb64d27",
   "metadata": {},
   "source": [
    "![](https://ars.els-cdn.com/content/image/1-s2.0-S004578252300467X-gr1.jpg)\n",
    "\n",
    "![](https://learnopencv.com/wp-content/uploads/2023/02/denoising-diffusion-probabilistic-models-forward_and_backward_equations.png))"
   ]
  },
  {
   "cell_type": "code",
   "execution_count": null,
   "id": "8f6655b7-d901-4927-9ff4-b06229ae5bf6",
   "metadata": {},
   "outputs": [],
   "source": []
  }
 ],
 "metadata": {
  "kernelspec": {
   "display_name": "Python 3 (ipykernel)",
   "language": "python",
   "name": "python3"
  },
  "language_info": {
   "codemirror_mode": {
    "name": "ipython",
    "version": 3
   },
   "file_extension": ".py",
   "mimetype": "text/x-python",
   "name": "python",
   "nbconvert_exporter": "python",
   "pygments_lexer": "ipython3",
   "version": "3.12.3"
  }
 },
 "nbformat": 4,
 "nbformat_minor": 5
}
